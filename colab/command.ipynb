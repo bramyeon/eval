{
  "cells": [
    {
      "cell_type": "markdown",
      "metadata": {
        "id": "view-in-github",
        "colab_type": "text"
      },
      "source": [
        "<a href=\"https://colab.research.google.com/github/bramyeon/af2-gamma-eval/blob/main/colab/command.ipynb\" target=\"_parent\"><img src=\"https://colab.research.google.com/assets/colab-badge.svg\" alt=\"Open In Colab\"/></a>"
      ]
    },
    {
      "cell_type": "markdown",
      "metadata": {
        "id": "d0fbDx2_G4-w"
      },
      "source": [
        "# DSLAB Synthetic Protein Structure Evaluation System v0.3.3: <b>Command Builder</b>\n",
        "\n",
        "Developed by [Bryan Nathanael Wijaya](mailto:bramyeon@gmail.com) and [Luiz Felipe Vecchietti](lfelipesv@gmail.com)  \n",
        "Contact us for inquiries or bug reports 🙌\n",
        "\n",
        "```\n",
        "python main.py [-h] [--input_dir INPUT_DIR] [--output_dir OUTPUT_DIR] [--token TOKEN] [--contigs CONTIGS] [--ddg_pre]\n",
        "               [--mpnn] [--msa MSA] [--af] [--ddg_fin] [--ddg_reference DDG_REFERENCE] [--ddg_quiet] [--ddg_filter_pre]\n",
        "               [--ddg_filter_fin] [--ddg_max_pre DDG_MAX_PRE] [--ddg_max_fin DDG_MAX_FIN] [--mpnn_mode MPNN_MODE]\n",
        "               [--mpnn_num MPNN_NUM] [--mpnn_temp MPNN_TEMP] [--mpnn_fr] [--msa_quiet] [--af_offline] [--af_init]\n",
        "               [--af_multimer] [--af_custemp] [--af_recycle AF_RECYCLE] [--af_tolerance AF_TOLERANCE] [--af_seed AF_SEED]\n",
        "               [--af_quiet] [--af_keep_all] [--af_filter] [--af_model AF_MODEL] [--af_plddt AF_PLDDT] [--af_pae AF_PAE]\n",
        "               [--af_ipae AF_IPAE] [--af_no_plddt] [--af_no_pae] [--af_no_ipae] [--af_all] [--af_best_avg] [--af_sep_csv]\n",
        "```"
      ]
    },
    {
      "cell_type": "code",
      "execution_count": null,
      "metadata": {
        "cellView": "form",
        "id": "3m1fCyuUG4-0"
      },
      "outputs": [],
      "source": [
        "#@title Arguments for I/O directories and structure specifications\n",
        "\n",
        "#@markdown | Argument                          | Type  | Description                                   | Default Value | Example Value |\n",
        "#@markdown | :-------------------------------- | :---: | :-------------------------------------------- | :-----------: | :-----------: |\n",
        "#@markdown | `-h`, `--help`                    |       | show the help message and exit                |               |               |\n",
        "#@markdown | `--input_dir INPUT_DIR`           | str   | input directory                               | input         | data/foo      |\n",
        "#@markdown | `--output_dir OUTPUT_DIR`         | str   | output directory                              | output        | data/boo      |\n",
        "#@markdown | `--token TOKEN`                   | str   | output_dir token in case MSA is pre-searched  | None          | 20240401172937 |\n",
        "#@markdown | `--contigs CONTIGS`               | str   | specification of the structure                | None          | A1-113:B1-26/6-6/B33-106 |\n",
        "#@markdown\n",
        "#@markdown <br>\n",
        "\n",
        "input_dir = \"input\" #@param {type:\"string\"}\n",
        "output_dir = \"output\" #@param {type:\"string\"}\n",
        "token = \"\" #@param {type:\"string\"}\n",
        "contigs = \"\" #@param {type:\"string\"}\n",
        "\n",
        "args = dict()\n",
        "args['input_dir'] = input_dir\n",
        "args['output_dir'] = output_dir\n",
        "args['token'] = token\n",
        "args['contigs'] = contigs"
      ]
    },
    {
      "cell_type": "code",
      "execution_count": null,
      "metadata": {
        "cellView": "form",
        "id": "JrioT_CuG4-1"
      },
      "outputs": [],
      "source": [
        "#@title Arguments for service selection\n",
        "\n",
        "#@markdown | Argument                          | Type  | Description                                              |\n",
        "#@markdown | :-------------------------------- | :---: | :------------------------------------------------------- |\n",
        "#@markdown | `--ddg_pre`                       | flag  | use PyRosetta to calculate ddG of preliminary structure  |\n",
        "#@markdown | `--mpnn`                          | flag  | use ProteinMPNN to design sequence                       |\n",
        "#@markdown | `--msa`                           | flag  | pre-search MSA (before AF2 in offline environment)       |\n",
        "#@markdown | `--af`                            | flag  | use AF2 to predict structure                             |\n",
        "#@markdown | `--ddg_fin`                       | flag  | use PyRosetta to calculate ddG of final structure        |\n",
        "#@markdown\n",
        "#@markdown <br>\n",
        "\n",
        "ddg_pre = False #@param {type:\"boolean\"}\n",
        "mpnn = False #@param {type:\"boolean\"}\n",
        "msa = False #@param {type:\"boolean\"}\n",
        "af = False #@param {type:\"boolean\"}\n",
        "ddg_fin = False #@param {type:\"boolean\"}\n",
        "\n",
        "args['ddg_pre'] = ddg_pre\n",
        "args['mpnn'] = mpnn\n",
        "args['msa'] = msa\n",
        "args['af'] = af\n",
        "args['ddg_fin'] = ddg_fin"
      ]
    },
    {
      "cell_type": "code",
      "execution_count": null,
      "metadata": {
        "cellView": "form",
        "id": "eUWoRrSFG4-2"
      },
      "outputs": [],
      "source": [
        "#@title Arguments for ddG calculation with PyRosetta\n",
        "\n",
        "#@markdown | Argument                          | Type  | Description                                   | Default Value | Example Value |\n",
        "#@markdown | :-------------------------------- | :---: | :-------------------------------------------- | :-----------: | :-----------: |\n",
        "#@markdown | `--ddg_reference DDG_REFERENCE`   | str   | reference structure for the designs           | None          | data/ref.pdb  |\n",
        "#@markdown | `--ddg_quiet`                     | flag  | print only warning and error messages         |               |               |\n",
        "#@markdown | `--ddg_filter_pre`                | flag  | filter preliminary candidates based on ddG    |               |               |\n",
        "#@markdown | `--ddg_filter_fin`                | flag  | filter final candidates based on ddG          |               |               |\n",
        "#@markdown | `--ddg_max_pre DDG_MAX_PRE`       | float | <b>MAX</b>imum ddG value to pass the preliminary filter | -30.0    | 10.5     |\n",
        "#@markdown | `--ddg_max_fin DDG_MAX_FIN`       | float | <b>MAX</b>imum ddG value to pass the final filter       | 2000.0   | 2023.5   |\n",
        "#@markdown\n",
        "#@markdown <br>\n",
        "\n",
        "if ddg_pre or ddg_fin:\n",
        "    ddg_reference = \"\" #@param {type:\"string\"}\n",
        "    ddg_quiet = False #@param {type:\"boolean\"}\n",
        "    ddg_filter_pre = False #@param {type:\"boolean\"}\n",
        "    ddg_filter_fin = False #@param {type:\"boolean\"}\n",
        "    ddg_max_pre = -30.0 #@param {type:\"number\"}\n",
        "    ddg_max_fin = 2000.0 #@param {type:\"number\"}\n",
        "\n",
        "    args['ddg_reference'] = ddg_reference\n",
        "    args['ddg_quiet'] = ddg_quiet\n",
        "\n",
        "    if ddg_pre:\n",
        "        args['ddg_filter_pre'] = ddg_filter_pre\n",
        "        if ddg_filter_pre:\n",
        "            args['ddg_max_pre'] = ddg_max_pre\n",
        "\n",
        "    if ddg_fin:\n",
        "        args['ddg_filter_fin'] = ddg_filter_fin\n",
        "        if ddg_filter_fin:\n",
        "            args['ddg_max_fin'] = ddg_max_fin"
      ]
    },
    {
      "cell_type": "code",
      "execution_count": null,
      "metadata": {
        "cellView": "form",
        "id": "tybpOf1IG4-2"
      },
      "outputs": [],
      "source": [
        "#@title Arguments for sequence design with ProteinMPNN (or MPNN-FR)\n",
        "\n",
        "#@markdown | Argument                          | Type  | Description                                   | Default Value | Example Value |\n",
        "#@markdown | :-------------------------------- | :---: | :-------------------------------------------- | :-----------: | :-----------: |\n",
        "#@markdown | `--mpnn_mode MPNN_MODE`           | str   | ProteinMPNN mode: partial/binder/fixbb        | partial       | binder        |\n",
        "#@markdown | `--mpnn_num MPNN_NUM`             | int   | number of sequence designs per structure      | 8             | 3             |\n",
        "#@markdown | `--mpnn_temp MPNN_TEMP`           | float | MPNN sampling temperature                     | 0.1           | 0.01          |\n",
        "#@markdown | `--mpnn_fr`                       | flag  | use Rosetta Fast Relax                        |               |               |\n",
        "#@markdown\n",
        "#@markdown <br>\n",
        "\n",
        "if mpnn:\n",
        "    mpnn_mode = \"partial\" #@param {type:\"string\"}\n",
        "    mpnn_num = 8 #@param {type:\"number\"}\n",
        "    mpnn_temp = 0.1 #@param {type:\"number\"}\n",
        "    mpnn_fr = False #@param {type:\"boolean\"}\n",
        "\n",
        "    args['mpnn_mode'] = mpnn_mode\n",
        "    args['mpnn_num'] = mpnn_num\n",
        "    args['mpnn_temp'] = mpnn_temp\n",
        "    args['mpnn_fr'] = mpnn_fr"
      ]
    },
    {
      "cell_type": "code",
      "source": [
        "#@title Arguments for MSA pre-search before running AF2 Gamma in an internet-free environment\n",
        "\n",
        "#@markdown Note that the `--af_custemp` flag here must be set if you want to run AF2 Gamma with custom template later on.\n",
        "\n",
        "#@markdown | Argument                          | Type  | Description                                   | Default Value | Example Value |\n",
        "#@markdown | :-------------------------------- | :---: | :-------------------------------------------- | :-----------: | :-----------: |\n",
        "#@markdown | `--msa_quiet`                     | flag  | print only error messages                     |               |               |\n",
        "#@markdown | `--af_custemp`                    | flag  | use custom template for AF2 prediction        |               |               |\n",
        "#@markdown\n",
        "#@markdown <br>\n",
        "\n",
        "if msa:\n",
        "    msa_quiet = False #@param {type:\"boolean\"}\n",
        "    af_custemp = False #@param {type:\"boolean\"}\n",
        "\n",
        "    args['msa_quiet'] = msa_quiet\n",
        "    args['af_custemp'] = af_custemp"
      ],
      "metadata": {
        "cellView": "form",
        "id": "lxYHVZc2X8rH"
      },
      "execution_count": null,
      "outputs": []
    },
    {
      "cell_type": "code",
      "execution_count": null,
      "metadata": {
        "id": "-o0W1p9zG4-3",
        "cellView": "form"
      },
      "outputs": [],
      "source": [
        "#@title Arguments for structure prediction with AlphaFold2 Gamma\n",
        "\n",
        "#@markdown | Argument                          | Type  | Description                                   | Default Value | Example Value |\n",
        "#@markdown | :-------------------------------- | :---: | :-------------------------------------------- | :-----------: | :-----------: |\n",
        "#@markdown | `--af_offline`                    | flag  | run AF2 without internet (MSA search skipped) |               |               |\n",
        "#@markdown | `--af_init`                       | flag  | use initial guess                             |               |               |\n",
        "#@markdown | `--af_multimer`                   | flag  | use AF2 Multimer                              |               |               |\n",
        "#@markdown | `--af_custemp`                    | flag  | use custom template for AF2 prediction        |               |               |\n",
        "#@markdown | `--af_recycle AF_RECYCLE`         | int   | number of AF2 recycles                        | 20            | 3             |\n",
        "#@markdown | `--af_tolerance AF_TOLERANCE`     | float | recycle early stop tolerance                  | 0.5           | 1.0           |\n",
        "#@markdown | `--af_seed AF_SEED`               | int   | random model seed                             | 0             | 2023          |\n",
        "#@markdown | `--af_quiet`                      | flag  | print only error messages                     |               |               |\n",
        "#@markdown | `--af_keep_all`                   | flag  | keep all the AF2 results and details (not recommended) |\n",
        "#@markdown | `--af_filter`                     | flag  | filter with one model before using all models |               |               |\n",
        "#@markdown | `--af_all`                        | flag  | use all 5 AF2 models to validate              |               |               |\n",
        "#@markdown\n",
        "#@markdown <br>\n",
        "\n",
        "if af:\n",
        "    af_offline = False #@param {type:\"boolean\"}\n",
        "    af_init = False #@param {type:\"boolean\"}\n",
        "    af_multimer = False #@param {type:\"boolean\"}\n",
        "    af_custemp = False #@param {type:\"boolean\"}\n",
        "    af_recycle = 20 #@param {type:\"number\"}\n",
        "    af_tolerance = 0.5 #@param {type:\"number\"}\n",
        "    af_seed = 0 #@param {type:\"number\"}\n",
        "    af_quiet = False #@param {type:\"boolean\"}\n",
        "    af_keep_all = False #@param {type:\"boolean\"}\n",
        "    af_filter = False #@param {type:\"boolean\"}\n",
        "    af_all = False #@param {type:\"boolean\"}\n",
        "\n",
        "    args['af_offline'] = af_offline\n",
        "    args['af_init'] = af_init\n",
        "    args['af_multimer'] = af_multimer\n",
        "    args['af_custemp'] = af_custemp\n",
        "    args['af_recycle'] = af_recycle\n",
        "    args['af_tolerance'] = af_tolerance\n",
        "    args['af_seed'] = af_seed\n",
        "    args['af_quiet'] = af_quiet\n",
        "    args['af_keep_all'] = af_keep_all\n",
        "    args['af_filter'] = af_filter\n",
        "    args['af_all'] = af_all\n",
        "\n",
        "#@markdown <br>\n",
        "#@markdown\n",
        "#@markdown | Argument for one-model AF2        | Type  | Description                                   | Default Value | Example Value |\n",
        "#@markdown | :-------------------------------- | :---: | :-------------------------------------------- | :-----------: | :-----------: |\n",
        "#@markdown | `--af_model AF_MODEL`             | int   | model number used for filtering/validation    | 1             | 5             |\n",
        "#@markdown | `--af_plddt AF_PLDDT`             | float | <b>MIN</b>imum pLDDT value to pass the filter | 0.9           | 0.8           |\n",
        "#@markdown | `--af_pae AF_PAE`                 | float | <b>MAX</b>imum pAE value to pass the filter   | 5.0           | 22.5          |\n",
        "#@markdown | `--af_ipae AF_IPAE`               | float | <b>MAX</b>imum i-pAE value to pass the filter | 5.0           | 16.7          |\n",
        "#@markdown | `--af_no_plddt`                   | flag  | do not use pLDDT to filter                    |               |               |\n",
        "#@markdown | `--af_no_pae`                     | flag  | do not use pAE to filter                      |               |               |\n",
        "#@markdown | `--af_no_ipae`                    | flag  | do not use i-pAE to filter                    |               |               |\n",
        "#@markdown\n",
        "#@markdown <br>\n",
        "\n",
        "    if af_filter:\n",
        "        af_model = \"1\" #@param [1, 2, 3, 4, 5]\n",
        "        af_plddt = 0.9 #@param {type:\"number\"}\n",
        "        af_pae = 5.0 #@param {type:\"number\"}\n",
        "        af_ipae = 5.0 #@param {type:\"number\"}\n",
        "        af_no_plddt = False #@param {type:\"boolean\"}\n",
        "        af_no_pae = False #@param {type:\"boolean\"}\n",
        "        af_no_ipae = False #@param {type:\"boolean\"}\n",
        "\n",
        "        args['af_model'] = int(af_model)\n",
        "        if not af_no_plddt:\n",
        "            args['af_plddt'] = af_plddt\n",
        "        if not af_no_pae:\n",
        "            args['af_pae'] = af_pae\n",
        "        if not af_no_ipae:\n",
        "            args['af_ipae'] = af_ipae\n",
        "        args['af_no_plddt'] = af_no_plddt\n",
        "        args['af_no_pae'] = af_no_pae\n",
        "        args['af_no_ipae'] = af_no_ipae\n",
        "\n",
        "#@markdown <br>\n",
        "#@markdown\n",
        "#@markdown | Argument for five-model AF2       | Type  | Description                                            |\n",
        "#@markdown | :-------------------------------- | :---: | :----------------------------------------------------- |\n",
        "#@markdown | `--af_best_avg`                   | flag  | save CSV files for the best and average results        |\n",
        "#@markdown | `--af_sep_csv`                    | flag  | save a separate CSV file for each model                |\n",
        "#@markdown\n",
        "#@markdown <br>\n",
        "\n",
        "    if af_all:\n",
        "        af_best_avg = False #@param {type:\"boolean\"}\n",
        "        af_sep_csv = False #@param {type:\"boolean\"}\n",
        "\n",
        "        args['af_best_avg'] = af_best_avg\n",
        "        args['af_sep_csv'] = af_sep_csv"
      ]
    },
    {
      "cell_type": "code",
      "source": [
        "#@title (Optional) Additional settings\n",
        "\n",
        "#@markdown Do you want to specify the cuda device ID to use?\n",
        "specify_cuda = False #@param {type:\"boolean\"}\n",
        "cuda_id = \"0\" #@param [0, 1, 2, 3, 4, 5]\n",
        "cuda_id = int(cuda_id)\n",
        "\n",
        "#@markdown Do you want to use `nohup` and run in the background?\n",
        "nohup = False #@param {type:\"boolean\"}\n",
        "log_path = '' #@param {type:\"string\"}"
      ],
      "metadata": {
        "cellView": "form",
        "id": "JdGXDCQq31-a"
      },
      "execution_count": null,
      "outputs": []
    },
    {
      "cell_type": "code",
      "source": [
        "#@title The following is your command! Copy it and run the validation script on the supported environment. Good luck🤞\n",
        "\n",
        "cmd = [\"python main.py\"]\n",
        "for key, value in args.items():\n",
        "    if type(value) == bool:\n",
        "        if value:\n",
        "            cmd.append(key)\n",
        "\n",
        "    elif type(value) == str:\n",
        "        if len(value.strip()) > 0:\n",
        "            cmd.append(f\"{key} {value}\")\n",
        "\n",
        "    elif type(value) in [int, float]:\n",
        "        cmd.append(f\"{key} {value}\")\n",
        "\n",
        "    else:\n",
        "        print(f\"WARNING: {key} cannot be {type(value)}. This will be set to its default value intrinsically.\")\n",
        "cmd = ' --'.join(cmd)\n",
        "\n",
        "if nohup:\n",
        "    cmd = f\"nohup {cmd} > {log_path} &\"\n",
        "\n",
        "if specify_cuda:\n",
        "    cmd = f\"CUDA_VISIBLE_DEVICES={cuda_id} {cmd}\"\n",
        "\n",
        "print(cmd)"
      ],
      "metadata": {
        "colab": {
          "base_uri": "https://localhost:8080/"
        },
        "cellView": "form",
        "id": "BYlSqzvY6ZTg",
        "outputId": "7bf113d2-16b0-4a41-ccb1-b559e37f1188"
      },
      "execution_count": null,
      "outputs": [
        {
          "output_type": "stream",
          "name": "stdout",
          "text": [
            "python main.py --input_dir input --output_dir output\n"
          ]
        }
      ]
    }
  ],
  "metadata": {
    "kernelspec": {
      "display_name": "SE3nv",
      "language": "python",
      "name": "python3"
    },
    "language_info": {
      "codemirror_mode": {
        "name": "ipython",
        "version": 3
      },
      "file_extension": ".py",
      "mimetype": "text/x-python",
      "name": "python",
      "nbconvert_exporter": "python",
      "pygments_lexer": "ipython3",
      "version": "3.9.17"
    },
    "colab": {
      "provenance": [],
      "include_colab_link": true
    }
  },
  "nbformat": 4,
  "nbformat_minor": 0
}